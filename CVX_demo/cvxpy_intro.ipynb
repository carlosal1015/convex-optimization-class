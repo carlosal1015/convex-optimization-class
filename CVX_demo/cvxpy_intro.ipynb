{
 "cells": [
  {
   "cell_type": "markdown",
   "metadata": {},
   "source": [
    "# Introduction to CVXPY\n",
    "CVXPY is a Python-embedded modeling language for (disciplined) convex optimization problems.  Much like CVX in MATLAB, it allows you to express the problem in a natural way that follows the math, instead of expressing the problem in a way that conforms to a specific solver's syntax.\n",
    "\n",
    "[CVXPY Homepage](http://www.cvxpy.org/en/latest/)\n",
    "\n",
    "[CVXPY Tutorial Documentation](http://www.cvxpy.org/en/latest/tutorial/index.html)\n",
    "\n",
    "[CVXPY Examples](http://www.cvxpy.org/en/latest/examples/index.html)"
   ]
  },
  {
   "cell_type": "code",
   "execution_count": 2,
   "metadata": {
    "collapsed": true
   },
   "outputs": [],
   "source": [
    "import numpy as np # we can use np.array to specify problem data\n",
    "import matplotlib.pyplot as plt\n",
    "%matplotlib inline\n",
    "import cvxpy as cvx"
   ]
  },
  {
   "cell_type": "markdown",
   "metadata": {},
   "source": [
    "## Example: Least-Squares Curve Fitting\n",
    "\n"
   ]
  },
  {
   "cell_type": "code",
   "execution_count": 3,
   "metadata": {
    "collapsed": false,
    "scrolled": false
   },
   "outputs": [
    {
     "data": {
      "image/png": "[encoded data removed]",
      "text/plain": [
       "<matplotlib.figure.Figure at 0x7f20167f5ac8>"
      ]
     },
     "metadata": {},
     "output_type": "display_data"
    }
   ],
   "source": [
    "x = np.array([-3,  -1, 0,   1, 2])\n",
    "y = np.array([0.5, -1, 1.5, 5, 11])\n",
    "plt.scatter(x,y)\n",
    "plt.xlabel('x'); plt.ylabel('y'); plt.title('Example Data')\n",
    "plt.show()"
   ]
  },
  {
   "cell_type": "markdown",
   "metadata": {},
   "source": [
    "The data look like they follow a quadratic function.  We can set up the following Vandermonde system and use unconstrained least-squares to estimate parameters for a quadratic function.\n",
    "\n",
    "$$A = \\begin{bmatrix}\n",
    "1 & x_0 & x_0^2\\\\\n",
    "1 & x_1 & x_1^2\\\\\n",
    "1 & x_2 & x_2^2\\\\\n",
    "1 & x_3 & x_3^2\\\\\n",
    "1 & x_4 & x_4^2\\\\\n",
    "      \\end{bmatrix}$$\n",
    "      \n",
    "Solving the following least-squares problem for $\\beta$ will give us parameters for a quadratic model:\n",
    "\n",
    "$$\\min_\\beta \\|A\\beta - y\\|_2$$\n",
    "\n",
    "Note that we could easily solve this simple problem with a QR factorization (\\ in MATLAB, np.linalg.lstsq)."
   ]
  },
  {
   "cell_type": "code",
   "execution_count": 4,
   "metadata": {
    "collapsed": false
   },
   "outputs": [
    {
     "name": "stdout",
     "output_type": "stream",
     "text": [
      "Problem status:  optimal\n",
      "Optimal value:   0.3496263519482917\n",
      "Optimal var:\n",
      " [[ 1.23858616]\n",
      " [ 3.01656848]\n",
      " [ 0.92157585]]\n"
     ]
    }
   ],
   "source": [
    "A = np.column_stack((np.ones(5,), x, x**2))\n",
    "\n",
    "# now setup and solve with CVXPY\n",
    "beta = cvx.Variable(3)\n",
    "\n",
    "# CVXPY's norm behaves like np.linalg.norm\n",
    "obj = cvx.Minimize(cvx.norm(A*beta-y))\n",
    "prob = cvx.Problem(obj)\n",
    "\n",
    "# Assuming the problem follows the DCP ruleset,\n",
    "# CVXPY will select a solver and try to solve the problem.\n",
    "# We can check if the problem is a disciplined convex program\n",
    "# with prob.is_dcp().\n",
    "prob.solve()\n",
    "\n",
    "print(\"Problem status: \", prob.status)\n",
    "print(\"Optimal value:  \", prob.value)\n",
    "print(\"Optimal var:\\n\", beta.value)"
   ]
  },
  {
   "cell_type": "markdown",
   "metadata": {},
   "source": [
    "Let's check the solution to see how we did:"
   ]
  },
  {
   "cell_type": "code",
   "execution_count": 5,
   "metadata": {
    "collapsed": false
   },
   "outputs": [
    {
     "data": {
      "image/png": "[encoded data removed]",
      "text/plain": [
       "<matplotlib.figure.Figure at 0x7f20167f5978>"
      ]
     },
     "metadata": {},
     "output_type": "display_data"
    }
   ],
   "source": [
    "_beta = beta.value # get the optimal vars\n",
    "_x = np.linspace(x.min(), x.max(), 100)\n",
    "_y = _beta[0,0]*np.ones_like(_x) + _beta[1,0]*_x + _beta[2,0]*_x**2\n",
    "plt.scatter(x,y)\n",
    "plt.plot(_x,_y,'-b')\n",
    "plt.xlabel('x'); plt.ylabel('y'); plt.title('Example Data with Least-Squares Fit')\n",
    "plt.show()"
   ]
  },
  {
   "cell_type": "markdown",
   "metadata": {},
   "source": [
    "## Example: $\\ell_1$-norm minimization\n",
    "\n",
    "Consider the basis pursuit problem\n",
    "\n",
    "$$\\begin{array}{cc} \\text{minimize}& \\|x\\|_1\\\\\\text{subject to} & Ax=y.\\end{array}$$\n",
    "\n",
    "This is a least $\\ell_1$-norm problem that will hopefully yield a sparse solution $x$.\n",
    "\n",
    "We now have an objective, $\\|x\\|_1$, and an equality constraint $Ax=y$."
   ]
  },
  {
   "cell_type": "code",
   "execution_count": 6,
   "metadata": {
    "collapsed": false
   },
   "outputs": [
    {
     "name": "stdout",
     "output_type": "stream",
     "text": [
      "\n",
      "ECOS 2.0.4 - (C) embotech GmbH, Zurich Switzerland, 2012-15. Web: www.embotech.com/ECOS\n",
      "\n",
      "It     pcost       dcost      gap   pres   dres    k/t    mu     step   sigma     IR    |   BT\n",
      " 0  +0.000e+00  -0.000e+00  +3e+02  9e-01  1e-02  1e+00  2e+00    ---    ---    1  1  - |  -  - \n",
      " 1  +4.326e+00  +4.368e+00  +5e+01  4e-01  2e-03  2e-01  2e-01  0.9138  7e-02   1  0  0 |  0  0\n",
      " 2  +6.569e+00  +6.576e+00  +7e+00  7e-02  2e-04  3e-02  3e-02  0.8889  3e-02   1  0  0 |  0  0\n",
      " 3  +6.975e+00  +6.975e+00  +3e-01  3e-03  9e-06  1e-03  1e-03  0.9834  2e-02   1  0  0 |  0  0\n",
      " 4  +6.987e+00  +6.987e+00  +3e-03  3e-05  1e-07  1e-05  1e-05  0.9890  1e-04   1  0  0 |  0  0\n",
      " 5  +6.987e+00  +6.987e+00  +3e-05  3e-07  1e-09  1e-07  2e-07  0.9890  1e-04   1  0  0 |  0  0\n",
      " 6  +6.987e+00  +6.987e+00  +4e-07  4e-09  1e-11  2e-09  2e-09  0.9890  1e-04   1  0  0 |  0  0\n",
      " 7  +6.987e+00  +6.987e+00  +4e-09  4e-11  1e-13  2e-11  2e-11  0.9890  1e-04   1  0  0 |  0  0\n",
      "\n",
      "OPTIMAL (within feastol=4.1e-11, reltol=5.7e-10, abstol=4.0e-09).\n",
      "Runtime: 0.052332 seconds.\n",
      "\n",
      "Problem status:  optimal\n",
      "Optimal value:   6.986797710363582\n",
      "True nonzero inds:       [15, 20, 32, 48, 50, 55, 58, 60, 68, 78]\n",
      "Recovered nonzero inds:  [15, 20, 32, 48, 50, 55, 58, 60, 68, 78]\n"
     ]
    }
   ],
   "source": [
    "# make a bogus sparse solution and RHS\n",
    "m = 200; n = 100;\n",
    "A = np.random.randn(m,n)\n",
    "_x = np.zeros((n,1))\n",
    "_k = 10\n",
    "_I = np.random.permutation(n)[0:_k]\n",
    "_x[_I] = np.random.randn(_k,1)\n",
    "y = np.dot(A,_x)\n",
    "\n",
    "x = cvx.Variable(n)\n",
    "\n",
    "# Even though the cvx.norm function behaves very similarly to\n",
    "# the np.linalg.norm function, we CANNOT use the np.linalg.norm \n",
    "# function on CVXPY objects.  If we do, we'll probably get a strange\n",
    "# error message.\n",
    "obj = cvx.Minimize(cvx.norm(x,1))\n",
    "\n",
    "# specify a list of constraints\n",
    "constraints = [ A*x == y ]\n",
    "\n",
    "# specify and solve the problem\n",
    "prob = cvx.Problem(obj, constraints)\n",
    "prob.solve(verbose=True) # let's see the underlying solver's output\n",
    "\n",
    "print(\"Problem status: \", prob.status)\n",
    "print(\"Optimal value:  \", prob.value)\n",
    "\n",
    "print(\"True nonzero inds:      \", sorted(_I))\n",
    "print(\"Recovered nonzero inds: \", sorted(np.where(abs(x.value) > 1e-14)[0]))"
   ]
  },
  {
   "cell_type": "markdown",
   "metadata": {},
   "source": [
    "## Example: Relaxation of Boolean LP\n",
    "Consider the Boolean linear program\n",
    "\n",
    "$$\\begin{array}{cl} \\text{minimize} & c^Tx\\\\\\text{subject to} & Ax \\preceq b\\\\ & x_i \\in\\{0,1\\}, \\quad i=1,...,n.\\end{array}$$\n",
    "\n",
    "Note: the generalized inequality $\\preceq$ is just element-wise $\\le$ on vectors.\n",
    "\n",
    "This is not a convex problem, but we can relax it to a linear program and hope that a solution to the relaxed, convex problem is \"close\" to a solution to the original Boolean LP.  A relaxation of the Boolean LP is the following LP:\n",
    "\n",
    "$$\\begin{array}{cl} \\text{minimize} & c^Tx\\\\\\text{subject to} & Ax \\preceq b\\\\ & \\mathbf{0} \\preceq x \\preceq \\mathbf{1}.\\end{array}$$\n",
    "\n",
    "The relaxed solution $x^\\text{rlx}$ can be used to guess a Boolean point $\\hat{x}$ by rounding based on a threshold $t\\in[0,1]$:\n",
    "\n",
    "$$ \\hat{x}_i = \\left\\{\\begin{array}{cc} 1 & x_i^\\text{rlx} \\ge t\\\\0 & \\text{otherwise,}\\end{array}\\right. $$ \n",
    "\n",
    "for $i=1,...,n$.  However, the Boolean point $\\hat{x}$ might not satisfy $Ax\\preceq b$ (i.e., $\\hat{x}$ might be infeasible).\n",
    "\n",
    "From Boyd and Vandenberghe:\n",
    "> You can think of $x_i$ as a job we either accept or decline, and $-c_i$ as the (positive) revenue we generate if we accept job $i$.  We can think of $Ax\\preceq b$ as a set of limits on $m$ resources.  $A_{ij}$, which is positive, is the amount of resource $i$ consumed if we accept job $j$; $b_i$, which is positive, is the amount of recourse $i$ available."
   ]
  },
  {
   "cell_type": "code",
   "execution_count": null,
   "metadata": {
    "collapsed": false
   },
   "outputs": [],
   "source": [
    "m = 300; n = 100;\n",
    "A = np.random.rand(m,n)\n",
    "b = A.dot(np.ones((n,1)))/2.\n",
    "c = -np.random.rand(n,1)\n",
    "\n",
    "x_rlx = cvx.Variable(n)\n",
    "obj = cvx.Minimize(c.T*x_rlx)\n",
    "constraints = [ A*x_rlx <= b,\n",
    "                0 <= x_rlx, \n",
    "                x_rlx <= 1 ]\n",
    "\n",
    "prob = cvx.Problem(obj, constraints)\n",
    "prob.solve()\n",
    "\n",
    "print(\"Problem status: \", prob.status)\n",
    "print(\"Optimal value:  \", prob.value)\n",
    "\n",
    "plt.hist(x_rlx.value)\n",
    "plt.xlabel('x_rlx'); plt.ylabel('Count')\n",
    "plt.title('Histogram of elements of x_rlx')\n",
    "plt.show()"
   ]
  },
  {
   "cell_type": "markdown",
   "metadata": {},
   "source": [
    "## Example: Minimum Volume Ellipsoid\n",
    "Sometimes an example is particularly hard and we might need to adjust solver options, or use a different solver.\n",
    "\n",
    "Consider the problem of finding the minimum volume ellipsoid (described by the matrix $A$ and vector $b$) that covers a finite set of points $\\{x_i\\}_{i=1}^n$ in $\\mathbb{R}^2$.  The MVE can be found by solving\n",
    "\n",
    "$$\\begin{array}{cl} \\text{maximize} & \\log(\\det(A))\\\\\n",
    "\\text{subject to} & \\|A x_i + b\\| \\le 1, \\quad i=1,...,n.\n",
    "\\end{array}$$\n",
    "\n",
    "To allow CVXPY to see that the problem conforms to the DCP ruleset, we should use the function `cvx.log_det(A)` instead of something like `log(det(A))`."
   ]
  },
  {
   "cell_type": "code",
   "execution_count": null,
   "metadata": {
    "collapsed": false,
    "scrolled": false
   },
   "outputs": [],
   "source": [
    "# Generate some data\n",
    "np.random.seed(271828) # solver='CVXOPT' reaches max_iters\n",
    "m = 2; n = 50\n",
    "x = np.random.randn(m,n)\n",
    "\n",
    "A = cvx.Variable(2,2)\n",
    "b = cvx.Variable(2)\n",
    "obj = cvx.Maximize(cvx.log_det(A))\n",
    "constraints = [ cvx.norm(A*x[:,i] + b) <= 1 for i in range(n) ]\n",
    "\n",
    "prob = cvx.Problem(obj, constraints)\n",
    "#prob.solve(solver='CVXOPT', verbose=True) # progress stalls\n",
    "#prob.solve(solver='CVXOPT', kktsolver='robust', verbose=True) # progress still stalls\n",
    "prob.solve(solver='SCS', verbose=False) # seems to work, although it's not super accurate\n",
    "\n",
    "# plot the ellipse and data\n",
    "angles = np.linspace(0, 2*np.pi, 200)\n",
    "rhs = np.row_stack((np.cos(angles) - b.value[0], np.sin(angles) - b.value[1]))\n",
    "ellipse = np.linalg.solve(A.value, rhs)\n",
    "\n",
    "plt.scatter(x[0,:], x[1,:])\n",
    "plt.plot(ellipse[0,:].T, ellipse[1,:].T)\n",
    "plt.xlabel('Dimension 1'); plt.ylabel('Dimension 2')\n",
    "plt.title('Minimum Volume Ellipsoid')\n",
    "plt.show()"
   ]
  },
  {
   "cell_type": "code",
   "execution_count": null,
   "metadata": {
    "collapsed": true
   },
   "outputs": [],
   "source": []
  }
 ],
 "metadata": {
  "kernelspec": {
   "display_name": "Python 3",
   "language": "python",
   "name": "python3"
  },
  "language_info": {
   "codemirror_mode": {
    "name": "ipython",
    "version": 3
   },
   "file_extension": ".py",
   "mimetype": "text/x-python",
   "name": "python",
   "nbconvert_exporter": "python",
   "pygments_lexer": "ipython3",
   "version": "3.6.0"
  }
 },
 "nbformat": 4,
 "nbformat_minor": 2
}
